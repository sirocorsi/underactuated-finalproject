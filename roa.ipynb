{
 "cells": [
  {
   "cell_type": "code",
   "execution_count": 1,
   "metadata": {},
   "outputs": [],
   "source": [
    "from multicartpole import get_urdf, ManipulatorDynamics, ManipulatorDynamicsToPolynomial, get_lqr_diagram, simulate_diagram\n",
    "from pydrake.all import Variable, Linearize, LinearQuadraticRegulator, Parser, MultibodyPlant, MonomialBasis, MathematicalProgram, Variables, Solve, ToLatex\n",
    "\n",
    "import pydrake.symbolic as sym\n",
    "import numpy as np\n",
    "import matplotlib.pyplot as plt\n",
    "\n",
    "from IPython.display import Markdown, display\n",
    "\n",
    "from tqdm import tqdm"
   ]
  },
  {
   "cell_type": "code",
   "execution_count": 2,
   "metadata": {},
   "outputs": [],
   "source": [
    "# urdf of cartpole with 1 link\n",
    "urdf = get_urdf(1)\n",
    "\n",
    "\n",
    "plant = MultibodyPlant(time_step=0.0)\n",
    "plant.set_name(f\"plant\")\n",
    "Parser(plant).AddModelsFromString(urdf, \"urdf\")\n",
    "plant.Finalize()\n",
    "\n",
    "# LQR controller\n",
    "x_equilibrium = np.zeros(4)\n",
    "Q_lqr = np.diag([10, 10, 1, 1])\n",
    "R_lqr = np.eye(1)\n",
    "\n",
    "context = plant.CreateDefaultContext()\n",
    "plant.SetPositionsAndVelocities(context, x_equilibrium)\n",
    "plant.get_actuation_input_port().FixValue(context, [0])\n",
    "linear_plant = Linearize(plant, context, plant.get_actuation_input_port().get_index(), plant.get_state_output_port().get_index())\n",
    "K_lqr, S_lqr = LinearQuadraticRegulator(linear_plant.A(),linear_plant.B(),Q_lqr,R_lqr)\n",
    "\n",
    "# Symbolic polynomial dynamics\n",
    "x = Variable(\"x\")\n",
    "theta = Variable(\"\\\\theta\")\n",
    "q = np.array([x, theta])\n",
    "sintheta = Variable(\"s\")\n",
    "costheta = Variable(\"c\")\n",
    "xdot = Variable(\"\\\\dot{x}\")\n",
    "thetadot = Variable(\"\\\\dot{\\\\theta}\")\n",
    "qdot = np.array([xdot, thetadot])\n",
    "xdoubledot = Variable(\"\\\\ddot{x}\")\n",
    "thetadoubledot = Variable(\"\\\\ddot{\\\\theta}\")\n",
    "qdoubledot = np.array([xdoubledot, thetadoubledot])\n",
    "\n",
    "symbolic_plant = plant.ToSymbolic()\n",
    "symbolic_M, symbolic_C, symbolic_tauG, symbolic_B = ManipulatorDynamics(symbolic_plant, q, qdot)\n",
    "polynomial_M, polynomial_C, polynomial_tauG, polynomial_B = ManipulatorDynamicsToPolynomial(symbolic_M,symbolic_C,symbolic_tauG,symbolic_B,[theta],[sintheta],[costheta])\n",
    "\n",
    "# Polynomial force input\n",
    "x_lqr = np.array([x, sintheta, xdot, thetadot])\n",
    "polynomial_u = -K_lqr @ x_lqr\n",
    "\n",
    "# Polynomial EOM constraints\n",
    "polynomial_eom_constraints = polynomial_M @ qdoubledot + polynomial_C - polynomial_tauG - polynomial_B @ polynomial_u\n",
    "\n",
    "# Polynomial circle constraint\n",
    "circle_constraint = sintheta**2 + costheta**2 - 1\n",
    "\n",
    "# Lyapunov function\n",
    "x_lyapunov = np.array([x, sintheta, xdot, thetadot])\n",
    "xdot_lyapunov = np.array([xdot, costheta*thetadot, xdoubledot, thetadoubledot])\n",
    "\n",
    "alpha = 2\n",
    "polynomial_V = x_lyapunov.T @ S_lqr @ x_lyapunov + alpha*(1-costheta) \n",
    "polynomial_Vdot = 2 * x_lyapunov.T @ S_lqr @ xdot_lyapunov + alpha*(sintheta*thetadot)"
   ]
  },
  {
   "cell_type": "code",
   "execution_count": 3,
   "metadata": {},
   "outputs": [
    {
     "data": {
      "text/markdown": [
       "$M = \\begin{bmatrix} 2 & -1 \\cos{\\theta} \\\\ -1 \\cos{\\theta} & 1 \\end{bmatrix}$"
      ],
      "text/plain": [
       "<IPython.core.display.Markdown object>"
      ]
     },
     "metadata": {},
     "output_type": "display_data"
    },
    {
     "data": {
      "text/markdown": [
       "$C = \\begin{bmatrix} \\dot{\\theta}^{2} \\sin{\\theta} \\\\ 0 \\end{bmatrix}$"
      ],
      "text/plain": [
       "<IPython.core.display.Markdown object>"
      ]
     },
     "metadata": {},
     "output_type": "display_data"
    },
    {
     "data": {
      "text/markdown": [
       "$\\tau_G = \\begin{bmatrix} 0 \\\\ 9.81 \\sin{\\theta} \\end{bmatrix}$"
      ],
      "text/plain": [
       "<IPython.core.display.Markdown object>"
      ]
     },
     "metadata": {},
     "output_type": "display_data"
    },
    {
     "data": {
      "text/markdown": [
       "$B = \\begin{bmatrix} 1 \\\\ 0 \\end{bmatrix}$"
      ],
      "text/plain": [
       "<IPython.core.display.Markdown object>"
      ]
     },
     "metadata": {},
     "output_type": "display_data"
    },
    {
     "data": {
      "text/markdown": [
       "Polinomial EOM constraints $ = \\begin{bmatrix} ( - 3.16x + 61.40s - 5.29\\dot{x} + 16.17\\dot{\\theta} + 2\\ddot{x} + s \\dot{\\theta}^{2} - c \\ddot{\\theta}) \\\\ ( - 9.81s + \\ddot{\\theta} - c \\ddot{x}) \\end{bmatrix}$"
      ],
      "text/plain": [
       "<IPython.core.display.Markdown object>"
      ]
     },
     "metadata": {},
     "output_type": "display_data"
    },
    {
     "data": {
      "text/markdown": [
       "Circle constraint $ = (-1 + s^{2} + c^{2})$"
      ],
      "text/plain": [
       "<IPython.core.display.Markdown object>"
      ]
     },
     "metadata": {},
     "output_type": "display_data"
    },
    {
     "data": {
      "text/markdown": [
       "$V = (2(1 - c) + x (16.71x - 51.13s + 13.47\\dot{x} - 16.63\\dot{\\theta}) + s ( - 51.13x + 454.03s - 68.83\\dot{x} + 130.23\\dot{\\theta}) + \\dot{x} (13.47x - 68.83s + 17.30\\dot{x} - 22.58\\dot{\\theta}) + \\dot{\\theta} ( - 16.63x + 130.23s - 22.58\\dot{x} + 38.75\\dot{\\theta}))$"
      ],
      "text/plain": [
       "<IPython.core.display.Markdown object>"
      ]
     },
     "metadata": {},
     "output_type": "display_data"
    },
    {
     "data": {
      "text/markdown": [
       "$\\dot{V} = (2s \\dot{\\theta} + c \\dot{\\theta} ( - 102.27x + 908.05s - 137.67\\dot{x} + 260.47\\dot{\\theta}) + \\dot{x} (33.43x - 102.27s + 26.93\\dot{x} - 33.26\\dot{\\theta}) + \\ddot{x} (26.93x - 137.67s + 34.59\\dot{x} - 45.16\\dot{\\theta}) + \\ddot{\\theta} ( - 33.26x + 260.47s - 45.16\\dot{x} + 77.50\\dot{\\theta}))$"
      ],
      "text/plain": [
       "<IPython.core.display.Markdown object>"
      ]
     },
     "metadata": {},
     "output_type": "display_data"
    }
   ],
   "source": [
    "display(Markdown(\"$M = \" + ToLatex(symbolic_M, precision=2) + \"$\"))\n",
    "display(Markdown(\"$C = \" + ToLatex(symbolic_C, precision=2) + \"$\"))\n",
    "display(Markdown(\"$\\\\tau_G = \" + ToLatex(symbolic_tauG, precision=2) + \"$\"))\n",
    "display(Markdown(\"$B = \" + ToLatex(symbolic_B, precision=2) + \"$\"))\n",
    "\n",
    "\n",
    "display(Markdown(\"Polinomial EOM constraints $ = \" + ToLatex(polynomial_eom_constraints, precision=2) + \"$\"))\n",
    "display(Markdown(\"Circle constraint $ = \" + ToLatex(circle_constraint, precision=2) + \"$\"))\n",
    "\n",
    "display(Markdown(\"$V = \" + ToLatex(polynomial_V, precision=2) + \"$\"))\n",
    "display(Markdown(\"$\\\\dot{V} = \" + ToLatex(polynomial_Vdot, precision=2) + \"$\"))"
   ]
  },
  {
   "attachments": {},
   "cell_type": "markdown",
   "metadata": {},
   "source": [
    "<h4> equality constrained formulation </h4>"
   ]
  },
  {
   "cell_type": "code",
   "execution_count": 4,
   "metadata": {},
   "outputs": [
    {
     "name": "stderr",
     "output_type": "stream",
     "text": [
      "WARNING:drake:The problem has free variables, and CSDP removes the free variables by computing the null space of linear constraint in the dual space. This step can be time consuming. Consider providing a lower and/or upper bound for each decision variable.\n"
     ]
    },
    {
     "name": "stdout",
     "output_type": "stream",
     "text": [
      "True\n",
      "0.24317028829996803\n"
     ]
    }
   ],
   "source": [
    "prog = MathematicalProgram()\n",
    "\n",
    "\n",
    "variables = np.array([x, sintheta, costheta, xdot, thetadot, xdoubledot, thetadoubledot])\n",
    "indets = prog.NewIndeterminates(7)\n",
    "subs = dict(zip(variables, indets))\n",
    "        \n",
    "V = polynomial_V.Substitute(subs)\n",
    "Vdot = polynomial_Vdot.Substitute(subs)\n",
    "eom = sym.Substitute(polynomial_eom_constraints,subs)\n",
    "circle = circle_constraint.Substitute(subs)\n",
    "\n",
    "# multipliers\n",
    "l_e = np.array([prog.NewFreePolynomial(Variables(indets), 1).ToExpression() for i in range(2)])\n",
    "l_c = prog.NewFreePolynomial(Variables(indets), 3).ToExpression()\n",
    "\n",
    "l = prog.NewFreePolynomial(Variables(indets), 2).ToExpression()\n",
    "\n",
    "rho = prog.NewContinuousVariables(1)[0]\n",
    "prog.AddConstraint(rho >= 0)\n",
    "\n",
    "symbolic_xxd = np.array([x, sintheta, costheta-1, xdot, thetadot]).T @ np.array([x, sintheta, costheta-1, xdot, thetadot])\n",
    "xxd = symbolic_xxd.Substitute(subs)\n",
    "\n",
    "sos_const = xxd * (V - rho) - l*Vdot - l_e.T@eom - l_c*circle\n",
    "\n",
    "Q, basis_m = prog.AddSosConstraint(sos_const[0])\n",
    "prog.AddLinearCost(-rho)\n",
    "\n",
    "result = Solve(prog)\n",
    "\n",
    "print(result.is_success())\n",
    "\n",
    "rho_sol = result.GetSolution(rho)\n",
    "print(rho_sol)"
   ]
  },
  {
   "attachments": {},
   "cell_type": "markdown",
   "metadata": {},
   "source": [
    "<h4> Sampling algebraic variety </h4>"
   ]
  },
  {
   "cell_type": "code",
   "execution_count": 5,
   "metadata": {},
   "outputs": [
    {
     "name": "stderr",
     "output_type": "stream",
     "text": [
      "100%|██████████| 100/100 [00:14<00:00,  6.67it/s]\n"
     ]
    }
   ],
   "source": [
    "def sample_variety():\n",
    "    prog = MathematicalProgram()\n",
    "\n",
    "    alpha = np.random.randn(3)\n",
    "    beta = np.random.randn(3)\n",
    "    angle = np.random.uniform(-np.pi,np.pi)\n",
    "\n",
    "    t = prog.NewContinuousVariables(1)[0]\n",
    "    subs = dict(zip([x, xdot, thetadot], alpha*t+beta))\n",
    "    \n",
    "    sin_sample, cos_sample = np.sin(angle), np.cos(angle)\n",
    "    subs_trig = dict(zip([sintheta, costheta], [sin_sample, cos_sample]))\n",
    "    subs.update(subs_trig)\n",
    "\n",
    "    this_M = sym.Evaluate(polynomial_M, subs_trig)\n",
    "    this_C = sym.Substitute(polynomial_C, subs)\n",
    "    this_tauG = sym.Evaluate(polynomial_tauG, subs_trig)\n",
    "    this_B = sym.Evaluate(polynomial_B, subs_trig)\n",
    "    this_u = sym.Substitute(polynomial_u, subs)\n",
    "\n",
    "    this_M_inv = np.linalg.inv(this_M)\n",
    "\n",
    "    this_qdd = this_M_inv@(this_tauG + this_B@this_u - this_C)\n",
    "    subs.update(dict(zip(qdoubledot, this_qdd.flatten())))\n",
    "\n",
    "    this_Vdot = polynomial_Vdot.Substitute(subs)\n",
    "    prog.AddConstraint(this_Vdot == 0)\n",
    "    result = Solve(prog)\n",
    "    success = result.is_success()\n",
    "    \n",
    "    if success:\n",
    "        t_found = result.GetSolution(t)\n",
    "        this_Vdot = this_Vdot.Evaluate({t:t_found})\n",
    "        \n",
    "        sol_dict = dict(zip([x, xdot, thetadot], alpha*t_found+beta))\n",
    "        sol_dict[theta] = angle\n",
    "        sol_dict.update(subs_trig)\n",
    "        sol_dict.update(dict(zip(qdoubledot, sym.Evaluate(this_qdd, {t:t_found}).flatten())))\n",
    "\n",
    "        this_V = polynomial_V.Evaluate(sol_dict)\n",
    "        if this_Vdot == 0 and this_V < 1e4:\n",
    "            return sol_dict, this_V, this_Vdot\n",
    "    return sample_variety()\n",
    "\n",
    "n_samples = 100\n",
    "\n",
    "subs_samples = [sample_variety()[0] for i in tqdm(range(n_samples))]"
   ]
  },
  {
   "cell_type": "code",
   "execution_count": 6,
   "metadata": {},
   "outputs": [
    {
     "name": "stdout",
     "output_type": "stream",
     "text": [
      "True\n",
      "10.244761057250235\n"
     ]
    }
   ],
   "source": [
    "prog = MathematicalProgram()\n",
    "\n",
    "symbolic_psi = np.array([m.ToExpression().Substitute(dict(zip(indets, variables))) for m in basis_m])\n",
    "# symbolic_psi = np.array([m.ToExpression() for m in MonomialBasis(variables, 2)])\n",
    "\n",
    "rho = prog.NewContinuousVariables(1, \"r\")[0]\n",
    "prog.AddConstraint(rho >= 0)\n",
    "\n",
    "dim_psi = len(symbolic_psi)\n",
    "\n",
    "P = prog.NewSymmetricContinuousVariables(dim_psi, \"P\")\n",
    "prog.AddPositiveSemidefiniteConstraint(P)\n",
    "\n",
    "for subs in subs_samples:\n",
    "    xxd = symbolic_xxd.Evaluate(subs)\n",
    "    V = polynomial_V.Evaluate(subs)\n",
    "    psi = sym.Evaluate(symbolic_psi, subs)\n",
    "    prog.AddConstraint((xxd * (V - rho) - psi.T@P@psi)[0,0] == 0)\n",
    "    \n",
    "prog.AddCost(-rho)\n",
    "\n",
    "result = Solve(prog)\n",
    "\n",
    "print(result.is_success())\n",
    "print(result.GetSolution(rho))"
   ]
  },
  {
   "attachments": {},
   "cell_type": "markdown",
   "metadata": {},
   "source": [
    "<h4> Simulation </h4>"
   ]
  },
  {
   "cell_type": "code",
   "execution_count": 7,
   "metadata": {},
   "outputs": [
    {
     "name": "stderr",
     "output_type": "stream",
     "text": [
      "100%|██████████| 101/101 [01:00<00:00,  1.66it/s]\n"
     ]
    }
   ],
   "source": [
    "urdf = get_urdf(1)\n",
    "diagram = get_lqr_diagram(urdf, 1)\n",
    "\n",
    "x_lim = 2\n",
    "n = 101\n",
    "\n",
    "th = np.linspace(-1, 1, n)\n",
    "thdot = np.linspace(-1, 1, n)\n",
    "\n",
    "roa = -np.ones((n,n))\n",
    "\n",
    "logger = diagram.GetSubsystemByName(\"logger\")\n",
    "\n",
    "for i in tqdm(range(n)):\n",
    "    for j in range(n):\n",
    "        try:\n",
    "            x0 = np.array([0,th[i], 0, thdot[j]])\n",
    "            context = simulate_diagram(diagram, x0, 5)\n",
    "            log = logger.FindLog(context)\n",
    "\n",
    "            if np.max(np.abs(log.data()[0,:])) < x_lim and np.max(np.abs(log.data()[1,:])) < np.pi/2:\n",
    "                roa[n-j-1,i] = np.max(np.abs(log.data()[0,:]))\n",
    "        except:\n",
    "            continue"
   ]
  },
  {
   "attachments": {},
   "cell_type": "markdown",
   "metadata": {},
   "source": [
    "<h4> Sampling 1 </h4>"
   ]
  },
  {
   "cell_type": "code",
   "execution_count": 8,
   "metadata": {},
   "outputs": [
    {
     "name": "stderr",
     "output_type": "stream",
     "text": [
      "100%|██████████| 500000/500000 [00:50<00:00, 9981.04it/s] \n"
     ]
    }
   ],
   "source": [
    "def evaluate_Vdot(subs):\n",
    "    M = sym.Evaluate(polynomial_M, subs)\n",
    "    C = sym.Evaluate(polynomial_C, subs)\n",
    "    tauG = sym.Evaluate(polynomial_tauG, subs)\n",
    "    B = sym.Evaluate(polynomial_B, subs)\n",
    "    u = sym.Evaluate(polynomial_u, subs)\n",
    "\n",
    "    M_inv = np.linalg.inv(M)\n",
    "\n",
    "    qdd = M_inv@(tauG + B@u - C)\n",
    "    subs.update(dict(zip(qdoubledot, qdd.flatten())))\n",
    "    return polynomial_Vdot.Evaluate(subs)\n",
    "\n",
    "x_lim = 2\n",
    "\n",
    "x_max = np.array([x_lim, np.pi/2, 3, 3])\n",
    "V_max = np.inf\n",
    "\n",
    "for i in tqdm(range(500000)):\n",
    "    state = (np.random.rand(4)*2-1) * x_max\n",
    "    subs = {x: state[0], sintheta: np.sin(state[1]), costheta: np.cos(state[1]), theta: state[1], xdot: state[2], thetadot: state[3]}\n",
    "    V = polynomial_V.Evaluate(subs)\n",
    "    Vdot = evaluate_Vdot(subs)\n",
    "    if Vdot > 0 and V < V_max:\n",
    "        V_max = V"
   ]
  },
  {
   "attachments": {},
   "cell_type": "markdown",
   "metadata": {},
   "source": [
    "<h4> Sampling 2 </h4>"
   ]
  },
  {
   "cell_type": "code",
   "execution_count": 9,
   "metadata": {},
   "outputs": [
    {
     "name": "stderr",
     "output_type": "stream",
     "text": [
      "100%|██████████| 5000/5000 [02:31<00:00, 32.99it/s]\n"
     ]
    }
   ],
   "source": [
    "def sample_variety_2(): # in this we do not check for Vdot = 0 (much faster), we check later for Vdot >= 0\n",
    "    prog = MathematicalProgram()\n",
    "\n",
    "    alpha = np.random.randn(3)\n",
    "    beta = np.random.randn(3)\n",
    "    angle = np.random.uniform(-np.pi,np.pi)\n",
    "\n",
    "    t = prog.NewContinuousVariables(1)[0]\n",
    "    subs = dict(zip([x, xdot, thetadot], alpha*t+beta))\n",
    "    \n",
    "    sin_sample, cos_sample = np.sin(angle), np.cos(angle)\n",
    "    subs_trig = dict(zip([sintheta, costheta], [sin_sample, cos_sample]))\n",
    "    subs.update(subs_trig)\n",
    "\n",
    "    this_M = sym.Evaluate(polynomial_M, subs_trig)\n",
    "    this_C = sym.Substitute(polynomial_C, subs)\n",
    "    this_tauG = sym.Evaluate(polynomial_tauG, subs_trig)\n",
    "    this_B = sym.Evaluate(polynomial_B, subs_trig)\n",
    "    this_u = sym.Substitute(polynomial_u, subs)\n",
    "\n",
    "    this_M_inv = np.linalg.inv(this_M)\n",
    "\n",
    "    this_qdd = this_M_inv@(this_tauG + this_B@this_u - this_C)\n",
    "    subs.update(dict(zip(qdoubledot, this_qdd.flatten())))\n",
    "\n",
    "    this_Vdot = polynomial_Vdot.Substitute(subs)\n",
    "    prog.AddConstraint(this_Vdot == 0)\n",
    "    result = Solve(prog)\n",
    "    success = result.is_success()\n",
    "    \n",
    "    if success:\n",
    "        t_found = result.GetSolution(t)\n",
    "        this_Vdot = this_Vdot.Evaluate({t:t_found})\n",
    "        \n",
    "        sol_dict = dict(zip([x, xdot, thetadot], alpha*t_found+beta))\n",
    "        sol_dict[theta] = angle\n",
    "        sol_dict.update(subs_trig)\n",
    "        sol_dict.update(dict(zip(qdoubledot, sym.Evaluate(this_qdd, {t:t_found}).flatten())))\n",
    "\n",
    "        this_V = polynomial_V.Evaluate(sol_dict)\n",
    "        if this_V < 1e4: # we do not check for Vdot = 0 in this line\n",
    "            return sol_dict, this_V, this_Vdot\n",
    "    return sample_variety()\n",
    "\n",
    "samples = [sample_variety_2() for _ in tqdm(range(5000))]\n",
    "\n",
    "V_max2 = np.inf\n",
    "for _, V, Vdot in samples:\n",
    "    if Vdot >= 0 and V < V_max2:\n",
    "        V_max2 = V"
   ]
  },
  {
   "cell_type": "code",
   "execution_count": 10,
   "metadata": {},
   "outputs": [
    {
     "name": "stdout",
     "output_type": "stream",
     "text": [
      "V max: 2.721209937944888\n",
      "V max 2: 2.5998341421086977\n"
     ]
    }
   ],
   "source": [
    "print(\"V max:\",V_max)\n",
    "print(\"V max 2:\",V_max2)"
   ]
  },
  {
   "cell_type": "code",
   "execution_count": 11,
   "metadata": {},
   "outputs": [
    {
     "data": {
      "image/png": "[encoded data removed]",
      "text/plain": [
       "<Figure size 640x480 with 2 Axes>"
      ]
     },
     "metadata": {},
     "output_type": "display_data"
    }
   ],
   "source": [
    "x1_lim = (-1, 1)\n",
    "x2_lim = (-1, 1)\n",
    "\n",
    "fig, ax = plt.subplots()\n",
    "plt.title(\"Region of Attraction LQR cartpole\")\n",
    "\n",
    "def V(state):\n",
    "    subs = {x: 0, sintheta: np.sin(state[0]), costheta: np.cos(state[0]), theta: state[0], xdot: 0, thetadot: state[1]}\n",
    "    return polynomial_V.Evaluate(subs)\n",
    "\n",
    "x1 = np.linspace(*x1_lim,100)\n",
    "x2 = np.linspace(*x2_lim,100)\n",
    "X1, X2 = np.meshgrid(x1, x2)\n",
    "\n",
    "Y = np.zeros_like(X1)\n",
    "for i in range(len(x1)):\n",
    "    for j in range(len(x2)):\n",
    "        state = np.array([X1[i, j], X2[i, j]])\n",
    "        Y[i,j] = V(state)\n",
    "\n",
    "cs = ax.contour(X1,X2,Y, levels = [rho_sol], colors='r')\n",
    "cs = ax.contour(X1,X2,Y, levels = [min([V_max, V_max2])], colors='k')\n",
    "\n",
    "ax.plot([], color='r', label = \"SOS\")\n",
    "ax.plot([], color='k', label = \"Sampling\")\n",
    "\n",
    "im = ax.imshow(roa, extent=[*x1_lim, *x2_lim])\n",
    "\n",
    "ax.set_xlabel(\"$\\\\theta$ [rad]    ($x$, $\\\\dot{x} = 0$)\")\n",
    "ax.set_ylabel(\"$\\\\dot\\\\theta$ [rad/s]\")\n",
    "\n",
    "plt.colorbar(im, label = \"max x simulation\")\n",
    "\n",
    "ax.legend()\n",
    "\n",
    "plt.show()"
   ]
  }
 ],
 "metadata": {
  "kernelspec": {
   "display_name": "drake",
   "language": "python",
   "name": "python3"
  },
  "language_info": {
   "codemirror_mode": {
    "name": "ipython",
    "version": 3
   },
   "file_extension": ".py",
   "mimetype": "text/x-python",
   "name": "python",
   "nbconvert_exporter": "python",
   "pygments_lexer": "ipython3",
   "version": "3.10.6"
  },
  "orig_nbformat": 4
 },
 "nbformat": 4,
 "nbformat_minor": 2
}
